{
 "cells": [
  {
   "cell_type": "markdown",
   "id": "5e0ed868",
   "metadata": {},
   "source": [
    "<div style=\"overflow: hidden; margin-right: 50px;\">\n",
    "<img src=\"recursos/python.png\" alt=\"Python\" style=\"float: right; margin-left: 20px;\" width=\"150\"/>\n",
    "<h1 style=\"text-align: justify;\">Conjuntos</h1>\n",
    "<p style=\"text-align: justify;\">\n",
    "\n",
    "Un conjunto es una colección desordenada de elementos únicos. Se definen utilizando llaves {} o la función set(). Los conjuntos admiten operaciones como unión, intersección y diferencia, útiles para manipular datos únicos.\n",
    "    \n",
    "</p>\n",
    "</div>"
   ]
  },
  {
   "cell_type": "code",
   "execution_count": 1,
   "id": "dda51cf7",
   "metadata": {},
   "outputs": [
    {
     "data": {
      "text/plain": [
       "{1, 2, 3, 4, 5}"
      ]
     },
     "execution_count": 1,
     "metadata": {},
     "output_type": "execute_result"
    }
   ],
   "source": [
    "# Crear un conjunto\n",
    "mi_conjunto = {1, 2, 3, 4, 5, 5} # Solo se mantendrá un 5\n",
    "mi_conjunto "
   ]
  },
  {
   "cell_type": "code",
   "execution_count": 2,
   "id": "a962195f",
   "metadata": {},
   "outputs": [
    {
     "data": {
      "text/plain": [
       "set"
      ]
     },
     "execution_count": 2,
     "metadata": {},
     "output_type": "execute_result"
    }
   ],
   "source": [
    "# Tipo de dato\n",
    "type(mi_conjunto)"
   ]
  },
  {
   "cell_type": "code",
   "execution_count": 3,
   "id": "7ceacf23",
   "metadata": {},
   "outputs": [
    {
     "data": {
      "text/plain": [
       "{1, 2, 3, 4, 5}"
      ]
     },
     "execution_count": 3,
     "metadata": {},
     "output_type": "execute_result"
    }
   ],
   "source": [
    "# Crear un conjunto con \"set\"\n",
    "mi_conjunto = set((1, 2, 3, 4, 5, 5))\n",
    "mi_conjunto"
   ]
  },
  {
   "cell_type": "code",
   "execution_count": 4,
   "id": "47dbad17",
   "metadata": {
    "scrolled": true
   },
   "outputs": [
    {
     "data": {
      "text/plain": [
       "['__and__',\n",
       " '__class__',\n",
       " '__class_getitem__',\n",
       " '__contains__',\n",
       " '__delattr__',\n",
       " '__dir__',\n",
       " '__doc__',\n",
       " '__eq__',\n",
       " '__format__',\n",
       " '__ge__',\n",
       " '__getattribute__',\n",
       " '__getstate__',\n",
       " '__gt__',\n",
       " '__hash__',\n",
       " '__iand__',\n",
       " '__init__',\n",
       " '__init_subclass__',\n",
       " '__ior__',\n",
       " '__isub__',\n",
       " '__iter__',\n",
       " '__ixor__',\n",
       " '__le__',\n",
       " '__len__',\n",
       " '__lt__',\n",
       " '__ne__',\n",
       " '__new__',\n",
       " '__or__',\n",
       " '__rand__',\n",
       " '__reduce__',\n",
       " '__reduce_ex__',\n",
       " '__repr__',\n",
       " '__ror__',\n",
       " '__rsub__',\n",
       " '__rxor__',\n",
       " '__setattr__',\n",
       " '__sizeof__',\n",
       " '__str__',\n",
       " '__sub__',\n",
       " '__subclasshook__',\n",
       " '__xor__',\n",
       " 'add',\n",
       " 'clear',\n",
       " 'copy',\n",
       " 'difference',\n",
       " 'difference_update',\n",
       " 'discard',\n",
       " 'intersection',\n",
       " 'intersection_update',\n",
       " 'isdisjoint',\n",
       " 'issubset',\n",
       " 'issuperset',\n",
       " 'pop',\n",
       " 'remove',\n",
       " 'symmetric_difference',\n",
       " 'symmetric_difference_update',\n",
       " 'union',\n",
       " 'update']"
      ]
     },
     "execution_count": 4,
     "metadata": {},
     "output_type": "execute_result"
    }
   ],
   "source": [
    "# Funcionalidades\n",
    "dir(set)"
   ]
  },
  {
   "cell_type": "markdown",
   "id": "c33bf3e9",
   "metadata": {},
   "source": [
    "### Add"
   ]
  },
  {
   "cell_type": "code",
   "execution_count": 5,
   "id": "8408f278",
   "metadata": {},
   "outputs": [
    {
     "data": {
      "text/plain": [
       "{1, 2, 3, 4}"
      ]
     },
     "execution_count": 5,
     "metadata": {},
     "output_type": "execute_result"
    }
   ],
   "source": [
    "# Add\n",
    "conjunto = {1, 2, 3}\n",
    "conjunto.add(4)\n",
    "conjunto"
   ]
  },
  {
   "cell_type": "markdown",
   "id": "09c0cc9a",
   "metadata": {},
   "source": [
    "### Clear"
   ]
  },
  {
   "cell_type": "code",
   "execution_count": 6,
   "id": "0d400e5b",
   "metadata": {},
   "outputs": [
    {
     "name": "stdout",
     "output_type": "stream",
     "text": [
      "{1, 2, 3}\n",
      "set()\n"
     ]
    }
   ],
   "source": [
    "# Limpiar\n",
    "mi_tupla = (1, 2, 3)\n",
    "mi_conjunto = set(mi_tupla)\n",
    "print(mi_conjunto)\n",
    "mi_conjunto.clear()\n",
    "print(mi_conjunto)"
   ]
  },
  {
   "cell_type": "markdown",
   "id": "315e07a5",
   "metadata": {},
   "source": [
    "### Copy"
   ]
  },
  {
   "cell_type": "code",
   "execution_count": 7,
   "id": "ffcde666",
   "metadata": {},
   "outputs": [
    {
     "data": {
      "text/plain": [
       "{1, 2, 3}"
      ]
     },
     "execution_count": 7,
     "metadata": {},
     "output_type": "execute_result"
    }
   ],
   "source": [
    "# Crear copia de un conjunto\n",
    "mi_tupla = (1, 2, 3)\n",
    "mi_conjunto = set(mi_tupla)\n",
    "conjunto_copia = mi_conjunto.copy()\n",
    "conjunto_copia"
   ]
  },
  {
   "cell_type": "markdown",
   "id": "c2ea7ba7",
   "metadata": {},
   "source": [
    "### Difference"
   ]
  },
  {
   "cell_type": "code",
   "execution_count": 8,
   "id": "2332571a",
   "metadata": {},
   "outputs": [
    {
     "data": {
      "text/plain": [
       "{1, 2}"
      ]
     },
     "execution_count": 8,
     "metadata": {},
     "output_type": "execute_result"
    }
   ],
   "source": [
    "# Diferencia\n",
    "tupla1 = (1, 2, 3, 4)\n",
    "tupla2 = (3, 4, 5, 6)\n",
    "conjunto1 = set(tupla1)\n",
    "conjunto2 = set(tupla2)\n",
    "diferencia = conjunto1.difference(conjunto2)\n",
    "diferencia"
   ]
  },
  {
   "cell_type": "markdown",
   "id": "2bdba90c",
   "metadata": {},
   "source": [
    "### Difference Update"
   ]
  },
  {
   "cell_type": "code",
   "execution_count": 9,
   "id": "b5453788",
   "metadata": {},
   "outputs": [
    {
     "data": {
      "text/plain": [
       "{1, 2}"
      ]
     },
     "execution_count": 9,
     "metadata": {},
     "output_type": "execute_result"
    }
   ],
   "source": [
    "# Actualizar\n",
    "tupla1 = (1, 2, 3, 4)\n",
    "tupla2 = (3, 4, 5, 6)\n",
    "conjunto1 = set(tupla1)\n",
    "conjunto2 = set(tupla2)\n",
    "conjunto1.difference_update(conjunto2)\n",
    "conjunto1 # Actualiza el primer conjunto de datos eliminando los datos que se intersectan entre ambos conjuntos"
   ]
  },
  {
   "cell_type": "markdown",
   "id": "092c21b3",
   "metadata": {},
   "source": [
    "### Discard"
   ]
  },
  {
   "cell_type": "code",
   "execution_count": 10,
   "id": "8803191b",
   "metadata": {},
   "outputs": [
    {
     "data": {
      "text/plain": [
       "{1, 3, 4}"
      ]
     },
     "execution_count": 10,
     "metadata": {},
     "output_type": "execute_result"
    }
   ],
   "source": [
    "# Eliminar\n",
    "tupla1 = (1, 2, 3, 4)\n",
    "conjunto1 = set(tupla1)\n",
    "conjunto1.discard(2)\n",
    "conjunto1"
   ]
  },
  {
   "cell_type": "markdown",
   "id": "327d8f7e",
   "metadata": {},
   "source": [
    "### Intersection"
   ]
  },
  {
   "cell_type": "code",
   "execution_count": 11,
   "id": "dcfa0f1e",
   "metadata": {},
   "outputs": [
    {
     "data": {
      "text/plain": [
       "{3, 4}"
      ]
     },
     "execution_count": 11,
     "metadata": {},
     "output_type": "execute_result"
    }
   ],
   "source": [
    "# Intersección\n",
    "tupla1 = (1, 2, 3, 4)\n",
    "tupla2 = (3, 4, 5, 6)\n",
    "conjunto1 = set(tupla1)\n",
    "conjunto2 = set(tupla2)\n",
    "interseccion = conjunto1.intersection(conjunto2)\n",
    "interseccion"
   ]
  },
  {
   "cell_type": "markdown",
   "id": "702560a9",
   "metadata": {},
   "source": [
    "### Intersection Update"
   ]
  },
  {
   "cell_type": "code",
   "execution_count": 12,
   "id": "50e7cb36",
   "metadata": {},
   "outputs": [
    {
     "data": {
      "text/plain": [
       "{3, 4}"
      ]
     },
     "execution_count": 12,
     "metadata": {},
     "output_type": "execute_result"
    }
   ],
   "source": [
    "tupla1 = (1, 2, 3, 4)\n",
    "tupla2 = (3, 4, 5, 6)\n",
    "conjunto1 = set(tupla1)\n",
    "conjunto2 = set(tupla2)\n",
    "conjunto1.intersection_update(conjunto2)\n",
    "conjunto1"
   ]
  },
  {
   "cell_type": "markdown",
   "id": "a2a2834c",
   "metadata": {},
   "source": [
    "### Issubset"
   ]
  },
  {
   "cell_type": "code",
   "execution_count": 13,
   "id": "88a68110",
   "metadata": {},
   "outputs": [
    {
     "data": {
      "text/plain": [
       "True"
      ]
     },
     "execution_count": 13,
     "metadata": {},
     "output_type": "execute_result"
    }
   ],
   "source": [
    "# Subconjunto\n",
    "tupla1 = (1, 2)\n",
    "tupla2 = (1, 2, 3, 4)\n",
    "conjunto1 = set(tupla1)\n",
    "conjunto2 = set(tupla2)\n",
    "es_subconjunto = conjunto1.issubset(conjunto2)\n",
    "es_subconjunto"
   ]
  },
  {
   "cell_type": "markdown",
   "id": "31cbda29",
   "metadata": {},
   "source": [
    "### Ayuda con Métodos"
   ]
  },
  {
   "cell_type": "code",
   "execution_count": 14,
   "id": "046de288",
   "metadata": {},
   "outputs": [],
   "source": [
    "set.remove?"
   ]
  }
 ],
 "metadata": {
  "kernelspec": {
   "display_name": "Python 3 (ipykernel)",
   "language": "python",
   "name": "python3"
  },
  "language_info": {
   "codemirror_mode": {
    "name": "ipython",
    "version": 3
   },
   "file_extension": ".py",
   "mimetype": "text/x-python",
   "name": "python",
   "nbconvert_exporter": "python",
   "pygments_lexer": "ipython3",
   "version": "3.11.5"
  }
 },
 "nbformat": 4,
 "nbformat_minor": 5
}

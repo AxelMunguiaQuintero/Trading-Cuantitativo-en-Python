{
 "cells": [
  {
   "cell_type": "markdown",
   "id": "c04a4b1b",
   "metadata": {},
   "source": [
    "<div style=\"overflow: hidden; margin-right: 50px;\">\n",
    "<img src=\"recursos/python.png\" alt=\"Python\" style=\"float: right; margin-left: 20px; margin-top: 30px;\" width=\"150\"/>\n",
    "<h1 style=\"text-align: justify;\">Excepción de Errores</h1>\n",
    "<p style=\"text-align: justify;\">\n",
    "\n",
    "En Python, una excepción es un evento que ocurre durante la ejecución de un programa que interrumpe el flujo normal de ejecución. Las excepciones pueden ser causadas por errores en el código o por condiciones excepcionales que surgen durante la ejecución del programa.\n",
    "\n",
    "La excepción de errores en Python es un tipo específico de excepción que se genera cuando ocurre un error durante la ejecución del programa. Este tipo de excepción se puede manejar utilizando bloques try-except. El bloque try se utiliza para ejecutar código que puede lanzar una excepción, mientras que el bloque except se utiliza para manejar la excepción si ocurre.\n",
    "    \n",
    "</p>\n",
    "</div>"
   ]
  },
  {
   "cell_type": "markdown",
   "id": "b94035b9",
   "metadata": {},
   "source": [
    "### TypeError\n",
    "\n",
    "Este error ocurre cuando se aplica una operación o función a un dato del tipo inapropiado."
   ]
  },
  {
   "cell_type": "code",
   "execution_count": 1,
   "id": "52334f34",
   "metadata": {},
   "outputs": [
    {
     "name": "stdout",
     "output_type": "stream",
     "text": [
      "¡Error de tipo de datos incompatible! Error -> can only concatenate str (not \"int\") to str\n"
     ]
    }
   ],
   "source": [
    "try:\n",
    "    suma = '10' + 5\n",
    "except TypeError as e: #- En este punto estamos asignando el objeto de la excepción a una variable llamada e\n",
    "    print(f\"¡Error de tipo de datos incompatible! Error -> {e}\")"
   ]
  },
  {
   "cell_type": "markdown",
   "id": "cb8860b8",
   "metadata": {},
   "source": [
    "### ZeroDivisionError\n",
    "\n",
    "Este error ocurre cuando se itenta dividir por cero, pues matemáticamente no es posible."
   ]
  },
  {
   "cell_type": "code",
   "execution_count": 2,
   "id": "50ca8ca0",
   "metadata": {},
   "outputs": [
    {
     "name": "stdout",
     "output_type": "stream",
     "text": [
      "¡Error de división por cero! Error -> division by zero\n"
     ]
    }
   ],
   "source": [
    "try:\n",
    "    resultado = 10 / 0\n",
    "except ZeroDivisionError as e:\n",
    "    print(f\"¡Error de división por cero! Error -> {e}\")"
   ]
  },
  {
   "cell_type": "markdown",
   "id": "3d1efda6",
   "metadata": {},
   "source": [
    "### OverflowErrow\n",
    "\n",
    "Este error ocurre cuando un cálculo excede el límite para un tipo de dato numérico. No es muy común, pero diseñemos un ejemplo."
   ]
  },
  {
   "cell_type": "code",
   "execution_count": 3,
   "id": "0fa05531",
   "metadata": {},
   "outputs": [
    {
     "name": "stdout",
     "output_type": "stream",
     "text": [
      "¡Error de overflow numérico! Error -> (34, 'Result too large')\n"
     ]
    }
   ],
   "source": [
    "try:\n",
    "    calculo = 5.25 ** 25665\n",
    "except OverflowError as e:\n",
    "    print(f\"¡Error de overflow numérico! Error -> {e}\")"
   ]
  },
  {
   "cell_type": "markdown",
   "id": "a41475ec",
   "metadata": {},
   "source": [
    "### ValueError\n",
    "\n",
    "Este error se genera cuando una operación o función recibe un argumento que tiene un valor inapropiado"
   ]
  },
  {
   "cell_type": "code",
   "execution_count": 4,
   "id": "4434e391",
   "metadata": {},
   "outputs": [
    {
     "name": "stdout",
     "output_type": "stream",
     "text": [
      "¡Error de valor incorrecto! Error -> invalid literal for int() with base 10: 'abc'\n"
     ]
    }
   ],
   "source": [
    "try:\n",
    "    num = int('abc')  #- Genera una excepción de ValueError al intentar convertir una cadena no numérica a entero.\n",
    "except ValueError as e:\n",
    "    print(f\"¡Error de valor incorrecto! Error -> {e}\")"
   ]
  },
  {
   "cell_type": "markdown",
   "id": "1192ab67",
   "metadata": {},
   "source": [
    "### IndexError\n",
    "\n",
    "Este error ocurse o se genera cuando un subíndice de una secuencia ya sea tupla, lista o string está fuera de rango. Por ejemplo en una lista de 5 elementos queremos acceder al elemento con subíndice 60."
   ]
  },
  {
   "cell_type": "code",
   "execution_count": 5,
   "id": "33ca3436",
   "metadata": {},
   "outputs": [
    {
     "name": "stdout",
     "output_type": "stream",
     "text": [
      "¡Error de índice fuera de rango! Error ->  list index out of range\n"
     ]
    }
   ],
   "source": [
    "try:\n",
    "    lista = [1, 2, 3]\n",
    "    elemento = lista[10]\n",
    "except IndexError as e:\n",
    "    print(f\"¡Error de índice fuera de rango! Error ->  {e}\")"
   ]
  },
  {
   "cell_type": "markdown",
   "id": "8605d9b5",
   "metadata": {},
   "source": [
    "### NameError\n",
    "\n",
    "Este error se genera cuando llamamos a una función, método o tratamos de acceder a una variable inexistente."
   ]
  },
  {
   "cell_type": "code",
   "execution_count": 6,
   "id": "ae361cda",
   "metadata": {},
   "outputs": [
    {
     "name": "stdout",
     "output_type": "stream",
     "text": [
      "¡Error de nombre no definido! Error -> name 'variable_no_definida' is not defined\n"
     ]
    }
   ],
   "source": [
    "try:\n",
    "    print(variable_no_definida)  #- Genera una excepción de NameError al intentar acceder a una variable no definida.\n",
    "except NameError as e:\n",
    "    print(f\"¡Error de nombre no definido! Error -> {e}\")"
   ]
  },
  {
   "cell_type": "markdown",
   "id": "89697b55",
   "metadata": {},
   "source": [
    "### ModuleNotFoundError\n",
    "\n",
    "Se genera cuando la declaración de un import tiene problemas al intentar cargar el módulo inexistente."
   ]
  },
  {
   "cell_type": "code",
   "execution_count": 7,
   "id": "4162c475",
   "metadata": {},
   "outputs": [
    {
     "name": "stdout",
     "output_type": "stream",
     "text": [
      "¡Error de importación de módulo! Error -> No module named 'modulo_inexistente'\n"
     ]
    }
   ],
   "source": [
    "try:\n",
    "    import modulo_inexistente\n",
    "except ImportError as e:\n",
    "    print(f\"¡Error de importación de módulo! Error -> {e}\")"
   ]
  },
  {
   "cell_type": "markdown",
   "id": "e93c0f0e",
   "metadata": {},
   "source": [
    "### KeyError\n",
    "\n",
    "Esto ocurre cuando no se encuentra una clave en un diccionario."
   ]
  },
  {
   "cell_type": "code",
   "execution_count": 8,
   "id": "9953b0a8",
   "metadata": {},
   "outputs": [
    {
     "name": "stdout",
     "output_type": "stream",
     "text": [
      "¡Error de clave inexistente en el diccionario! Error ->  'c'\n"
     ]
    }
   ],
   "source": [
    "try:\n",
    "    diccionario = {\"a\": 1, \"b\": 2}\n",
    "    valor = diccionario['c']\n",
    "except KeyError as e:\n",
    "    print(f\"¡Error de clave inexistente en el diccionario! Error ->  {e}\") #- Solo imprime"
   ]
  },
  {
   "cell_type": "markdown",
   "id": "1307a687",
   "metadata": {},
   "source": [
    "### FileNotFoundError\n",
    "\n",
    "Este error se generará cuando intentemos abrir un documento inexistente."
   ]
  },
  {
   "cell_type": "code",
   "execution_count": 9,
   "id": "b06d0676",
   "metadata": {},
   "outputs": [
    {
     "name": "stdout",
     "output_type": "stream",
     "text": [
      "¡Error de archivo no encontrado! Error ->  [Errno 2] No such file or directory: 'archivo_que_no_existe.txt'\n"
     ]
    }
   ],
   "source": [
    "try:\n",
    "    with open(\"archivo_que_no_existe.txt\", \"r\") as archivo:\n",
    "        contenido = archivo.read()\n",
    "except FileNotFoundError as e:\n",
    "    print(f\"¡Error de archivo no encontrado! Error ->  {e}\")"
   ]
  },
  {
   "cell_type": "markdown",
   "id": "6abe7164",
   "metadata": {},
   "source": [
    "### Exception\n",
    "\n",
    "Este captura todos los errores sin importar el tipo de error que se tenga."
   ]
  },
  {
   "cell_type": "code",
   "execution_count": 10,
   "id": "76df5f73",
   "metadata": {},
   "outputs": [
    {
     "name": "stdout",
     "output_type": "stream",
     "text": [
      "Error de ejecución: can only concatenate str (not \"int\") to str\n"
     ]
    }
   ],
   "source": [
    "try:\n",
    "    \"ABC\" + 10\n",
    "except Exception as e:\n",
    "    print(f\"Error de ejecución: {e}\")"
   ]
  },
  {
   "cell_type": "markdown",
   "id": "ca479e82",
   "metadata": {},
   "source": [
    "### Múltiples errores en un solo bloque"
   ]
  },
  {
   "cell_type": "code",
   "execution_count": 11,
   "id": "5ae067aa",
   "metadata": {},
   "outputs": [
    {
     "name": "stdout",
     "output_type": "stream",
     "text": [
      "Error en ejecución: can only concatenate str (not \"int\") to str\n"
     ]
    }
   ],
   "source": [
    "try: \n",
    "    \"ABC\" + 15\n",
    "except ZeroDivisionError as e:\n",
    "    print(f\"Error ZeroDivisionError: {e}\")\n",
    "except (OverflowError, IndexError, FileNotFoundError):\n",
    "    print(\"Error de cualquier tipo (TypeError, IndexError, FileNotFoundError): {e}\")\n",
    "except Exception as e:\n",
    "    print(f\"Error en ejecución: {e}\")"
   ]
  }
 ],
 "metadata": {
  "kernelspec": {
   "display_name": "Python 3 (ipykernel)",
   "language": "python",
   "name": "python3"
  },
  "language_info": {
   "codemirror_mode": {
    "name": "ipython",
    "version": 3
   },
   "file_extension": ".py",
   "mimetype": "text/x-python",
   "name": "python",
   "nbconvert_exporter": "python",
   "pygments_lexer": "ipython3",
   "version": "3.11.5"
  }
 },
 "nbformat": 4,
 "nbformat_minor": 5
}

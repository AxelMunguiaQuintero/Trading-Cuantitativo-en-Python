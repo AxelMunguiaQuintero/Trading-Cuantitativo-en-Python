{
 "cells": [
  {
   "cell_type": "markdown",
   "id": "5b316277",
   "metadata": {},
   "source": [
    "<div style=\"overflow: hidden; margin-right: 50px;\">\n",
    "<img src=\"recursos/python.png\" alt=\"Python\" style=\"float: right; margin-left: 20px; margin-top: 35px;\" width=\"200\"/>\n",
    "<h1 style=\"text-align: justify;\">Tipos de Datos</h1>\n",
    "<p style=\"text-align: justify;\">\n",
    "Los tipos de datos en Python son las diferentes categorías de valores que pueden ser representados y manipulados, como enteros, cadenas, listas y booleanos.\n",
    "\n",
    "<h3 style=\"text-align: justify;\">¿Qué son las variables?</h3>\n",
    "    \n",
    "Las variables en Python son nombres que se utilizan para almacenar datos en la memoria durante la ejecución del programa, pueden contener diferentes tipos de datos y pueden cambiar de valor.\n",
    "    \n",
    "<strong>A continuación</strong>, estudiaremos los tipos de datos más comunes:\n",
    "</p>\n",
    "</div>"
   ]
  },
  {
   "cell_type": "markdown",
   "id": "d0916834",
   "metadata": {},
   "source": [
    "### Entero"
   ]
  },
  {
   "cell_type": "code",
   "execution_count": 1,
   "id": "c158f11d",
   "metadata": {},
   "outputs": [
    {
     "data": {
      "text/plain": [
       "100"
      ]
     },
     "execution_count": 1,
     "metadata": {},
     "output_type": "execute_result"
    }
   ],
   "source": [
    "# Número Positivo\n",
    "numero_positivo = 100\n",
    "numero_positivo"
   ]
  },
  {
   "cell_type": "code",
   "execution_count": 2,
   "id": "ce6936d9",
   "metadata": {},
   "outputs": [
    {
     "data": {
      "text/plain": [
       "1000000"
      ]
     },
     "execution_count": 2,
     "metadata": {},
     "output_type": "execute_result"
    }
   ],
   "source": [
    "# Número Positivo Grande\n",
    "numero_grande = 1_000_000\n",
    "numero_grande"
   ]
  },
  {
   "cell_type": "code",
   "execution_count": 3,
   "id": "168e2cab",
   "metadata": {},
   "outputs": [
    {
     "data": {
      "text/plain": [
       "-50"
      ]
     },
     "execution_count": 3,
     "metadata": {},
     "output_type": "execute_result"
    }
   ],
   "source": [
    "# Número Negativo\n",
    "numero_negativo = -50\n",
    "numero_negativo"
   ]
  },
  {
   "cell_type": "code",
   "execution_count": 4,
   "id": "5c81e478",
   "metadata": {},
   "outputs": [
    {
     "name": "stdout",
     "output_type": "stream",
     "text": [
      "Suma: 50\n",
      "Resta: 150\n",
      "División: -2.0\n",
      "Multiplicación: -5000\n"
     ]
    }
   ],
   "source": [
    "# Operaciones\n",
    "suma = numero_positivo + numero_negativo\n",
    "resta = numero_positivo - numero_negativo\n",
    "division = numero_positivo / numero_negativo\n",
    "multiplicacion = numero_positivo * numero_negativo\n",
    "\n",
    "print(\"Suma:\", suma)\n",
    "print(\"Resta:\", resta)\n",
    "print(\"División:\", division)\n",
    "print(\"Multiplicación:\", multiplicacion)"
   ]
  },
  {
   "cell_type": "code",
   "execution_count": 5,
   "id": "380025d4",
   "metadata": {},
   "outputs": [
    {
     "data": {
      "text/plain": [
       "int"
      ]
     },
     "execution_count": 5,
     "metadata": {},
     "output_type": "execute_result"
    }
   ],
   "source": [
    "# Oberservar el tipo de dato\n",
    "referencia = 10\n",
    "type(referencia)"
   ]
  },
  {
   "cell_type": "code",
   "execution_count": 6,
   "id": "5f0f37ed",
   "metadata": {
    "scrolled": true
   },
   "outputs": [
    {
     "data": {
      "text/plain": [
       "['__abs__',\n",
       " '__add__',\n",
       " '__and__',\n",
       " '__bool__',\n",
       " '__ceil__',\n",
       " '__class__',\n",
       " '__delattr__',\n",
       " '__dir__',\n",
       " '__divmod__',\n",
       " '__doc__',\n",
       " '__eq__',\n",
       " '__float__',\n",
       " '__floor__',\n",
       " '__floordiv__',\n",
       " '__format__',\n",
       " '__ge__',\n",
       " '__getattribute__',\n",
       " '__getnewargs__',\n",
       " '__getstate__',\n",
       " '__gt__',\n",
       " '__hash__',\n",
       " '__index__',\n",
       " '__init__',\n",
       " '__init_subclass__',\n",
       " '__int__',\n",
       " '__invert__',\n",
       " '__le__',\n",
       " '__lshift__',\n",
       " '__lt__',\n",
       " '__mod__',\n",
       " '__mul__',\n",
       " '__ne__',\n",
       " '__neg__',\n",
       " '__new__',\n",
       " '__or__',\n",
       " '__pos__',\n",
       " '__pow__',\n",
       " '__radd__',\n",
       " '__rand__',\n",
       " '__rdivmod__',\n",
       " '__reduce__',\n",
       " '__reduce_ex__',\n",
       " '__repr__',\n",
       " '__rfloordiv__',\n",
       " '__rlshift__',\n",
       " '__rmod__',\n",
       " '__rmul__',\n",
       " '__ror__',\n",
       " '__round__',\n",
       " '__rpow__',\n",
       " '__rrshift__',\n",
       " '__rshift__',\n",
       " '__rsub__',\n",
       " '__rtruediv__',\n",
       " '__rxor__',\n",
       " '__setattr__',\n",
       " '__sizeof__',\n",
       " '__str__',\n",
       " '__sub__',\n",
       " '__subclasshook__',\n",
       " '__truediv__',\n",
       " '__trunc__',\n",
       " '__xor__',\n",
       " 'as_integer_ratio',\n",
       " 'bit_count',\n",
       " 'bit_length',\n",
       " 'conjugate',\n",
       " 'denominator',\n",
       " 'from_bytes',\n",
       " 'imag',\n",
       " 'numerator',\n",
       " 'real',\n",
       " 'to_bytes']"
      ]
     },
     "execution_count": 6,
     "metadata": {},
     "output_type": "execute_result"
    }
   ],
   "source": [
    "# Operaciones con enteros\n",
    "dir(int)"
   ]
  },
  {
   "cell_type": "code",
   "execution_count": 7,
   "id": "682989c3",
   "metadata": {},
   "outputs": [
    {
     "data": {
      "text/plain": [
       "(b'\\x05', 1, 5)"
      ]
     },
     "execution_count": 7,
     "metadata": {},
     "output_type": "execute_result"
    }
   ],
   "source": [
    "# Aplicar algunas funciones\n",
    "entero_ejemplo = 5\n",
    "entero_ejemplo.to_bytes(), entero_ejemplo.denominator, entero_ejemplo.numerator"
   ]
  },
  {
   "cell_type": "markdown",
   "id": "66d693bb",
   "metadata": {},
   "source": [
    "### Flotante"
   ]
  },
  {
   "cell_type": "code",
   "execution_count": 8,
   "id": "1230a705",
   "metadata": {},
   "outputs": [
    {
     "data": {
      "text/plain": [
       "3.141592"
      ]
     },
     "execution_count": 8,
     "metadata": {},
     "output_type": "execute_result"
    }
   ],
   "source": [
    "# Número flotante\n",
    "pi = 3.141592\n",
    "pi"
   ]
  },
  {
   "cell_type": "code",
   "execution_count": 9,
   "id": "77de3b49",
   "metadata": {},
   "outputs": [
    {
     "data": {
      "text/plain": [
       "-106.25"
      ]
     },
     "execution_count": 9,
     "metadata": {},
     "output_type": "execute_result"
    }
   ],
   "source": [
    "# Número flotante Negativo\n",
    "numero_flotante_negativo = -106.25\n",
    "numero_flotante_negativo"
   ]
  },
  {
   "cell_type": "code",
   "execution_count": 10,
   "id": "66ccdf44",
   "metadata": {},
   "outputs": [
    {
     "name": "stdout",
     "output_type": "stream",
     "text": [
      "Suma: -103.108408\n",
      "Resta: 109.391592\n",
      "División: -0.029567924705882355\n",
      "Multiplicación: -333.79415\n"
     ]
    }
   ],
   "source": [
    "# Operaciones\n",
    "suma = pi + numero_flotante_negativo\n",
    "resta = pi - numero_flotante_negativo\n",
    "division = pi/numero_flotante_negativo\n",
    "multiplicacion = pi * numero_flotante_negativo\n",
    "\n",
    "print(\"Suma:\", suma)\n",
    "print(\"Resta:\", resta)\n",
    "print(\"División:\", division)\n",
    "print(\"Multiplicación:\", multiplicacion)"
   ]
  },
  {
   "cell_type": "code",
   "execution_count": 11,
   "id": "27fa30c7",
   "metadata": {},
   "outputs": [
    {
     "data": {
      "text/plain": [
       "60.345"
      ]
     },
     "execution_count": 11,
     "metadata": {},
     "output_type": "execute_result"
    }
   ],
   "source": [
    "# Operaciones entre enteros y flotantes\n",
    "entero = 10\n",
    "flotante = 50.345\n",
    "resultado = entero + flotante\n",
    "resultado"
   ]
  },
  {
   "cell_type": "code",
   "execution_count": 12,
   "id": "2dbe3279",
   "metadata": {},
   "outputs": [
    {
     "data": {
      "text/plain": [
       "(60, int)"
      ]
     },
     "execution_count": 12,
     "metadata": {},
     "output_type": "execute_result"
    }
   ],
   "source": [
    "# Convertir un tipo de dato a otro\n",
    "resultado_entero = int(resultado)\n",
    "resultado_entero, type(resultado_entero)"
   ]
  },
  {
   "cell_type": "code",
   "execution_count": 13,
   "id": "a2ff657a",
   "metadata": {},
   "outputs": [
    {
     "data": {
      "text/plain": [
       "(60.0, float)"
      ]
     },
     "execution_count": 13,
     "metadata": {},
     "output_type": "execute_result"
    }
   ],
   "source": [
    "# Float\n",
    "resultado_float = float(resultado_entero)\n",
    "resultado_float, type(resultado_float)"
   ]
  },
  {
   "cell_type": "code",
   "execution_count": 14,
   "id": "263526c2",
   "metadata": {
    "scrolled": true
   },
   "outputs": [
    {
     "data": {
      "text/plain": [
       "['__abs__',\n",
       " '__add__',\n",
       " '__bool__',\n",
       " '__ceil__',\n",
       " '__class__',\n",
       " '__delattr__',\n",
       " '__dir__',\n",
       " '__divmod__',\n",
       " '__doc__',\n",
       " '__eq__',\n",
       " '__float__',\n",
       " '__floor__',\n",
       " '__floordiv__',\n",
       " '__format__',\n",
       " '__ge__',\n",
       " '__getattribute__',\n",
       " '__getformat__',\n",
       " '__getnewargs__',\n",
       " '__getstate__',\n",
       " '__gt__',\n",
       " '__hash__',\n",
       " '__init__',\n",
       " '__init_subclass__',\n",
       " '__int__',\n",
       " '__le__',\n",
       " '__lt__',\n",
       " '__mod__',\n",
       " '__mul__',\n",
       " '__ne__',\n",
       " '__neg__',\n",
       " '__new__',\n",
       " '__pos__',\n",
       " '__pow__',\n",
       " '__radd__',\n",
       " '__rdivmod__',\n",
       " '__reduce__',\n",
       " '__reduce_ex__',\n",
       " '__repr__',\n",
       " '__rfloordiv__',\n",
       " '__rmod__',\n",
       " '__rmul__',\n",
       " '__round__',\n",
       " '__rpow__',\n",
       " '__rsub__',\n",
       " '__rtruediv__',\n",
       " '__setattr__',\n",
       " '__sizeof__',\n",
       " '__str__',\n",
       " '__sub__',\n",
       " '__subclasshook__',\n",
       " '__truediv__',\n",
       " '__trunc__',\n",
       " 'as_integer_ratio',\n",
       " 'conjugate',\n",
       " 'fromhex',\n",
       " 'hex',\n",
       " 'imag',\n",
       " 'is_integer',\n",
       " 'real']"
      ]
     },
     "execution_count": 14,
     "metadata": {},
     "output_type": "execute_result"
    }
   ],
   "source": [
    "# Operaciones disponibles\n",
    "dir(float)"
   ]
  },
  {
   "cell_type": "code",
   "execution_count": 15,
   "id": "a985ef89",
   "metadata": {},
   "outputs": [
    {
     "data": {
      "text/plain": [
       "(False, '0x1.e7ae147ae147bp+3')"
      ]
     },
     "execution_count": 15,
     "metadata": {},
     "output_type": "execute_result"
    }
   ],
   "source": [
    "# Aplicar funciones\n",
    "float_ejemplo = 15.24\n",
    "float_ejemplo.is_integer(), float_ejemplo.hex()"
   ]
  },
  {
   "cell_type": "markdown",
   "id": "267ad9cb",
   "metadata": {},
   "source": [
    "### Booleano"
   ]
  },
  {
   "cell_type": "code",
   "execution_count": 16,
   "id": "bdb362c3",
   "metadata": {},
   "outputs": [
    {
     "data": {
      "text/plain": [
       "(True, False)"
      ]
     },
     "execution_count": 16,
     "metadata": {},
     "output_type": "execute_result"
    }
   ],
   "source": [
    "# Tipos de datos\n",
    "verdadero = True\n",
    "falso = False\n",
    "verdadero, falso"
   ]
  },
  {
   "cell_type": "code",
   "execution_count": 17,
   "id": "f86fb6c2",
   "metadata": {},
   "outputs": [
    {
     "data": {
      "text/plain": [
       "True"
      ]
     },
     "execution_count": 17,
     "metadata": {},
     "output_type": "execute_result"
    }
   ],
   "source": [
    "resultado = 5 > 3\n",
    "resultado"
   ]
  },
  {
   "cell_type": "code",
   "execution_count": 18,
   "id": "e9840514",
   "metadata": {
    "scrolled": true
   },
   "outputs": [
    {
     "data": {
      "text/plain": [
       "['__abs__',\n",
       " '__add__',\n",
       " '__and__',\n",
       " '__bool__',\n",
       " '__ceil__',\n",
       " '__class__',\n",
       " '__delattr__',\n",
       " '__dir__',\n",
       " '__divmod__',\n",
       " '__doc__',\n",
       " '__eq__',\n",
       " '__float__',\n",
       " '__floor__',\n",
       " '__floordiv__',\n",
       " '__format__',\n",
       " '__ge__',\n",
       " '__getattribute__',\n",
       " '__getnewargs__',\n",
       " '__getstate__',\n",
       " '__gt__',\n",
       " '__hash__',\n",
       " '__index__',\n",
       " '__init__',\n",
       " '__init_subclass__',\n",
       " '__int__',\n",
       " '__invert__',\n",
       " '__le__',\n",
       " '__lshift__',\n",
       " '__lt__',\n",
       " '__mod__',\n",
       " '__mul__',\n",
       " '__ne__',\n",
       " '__neg__',\n",
       " '__new__',\n",
       " '__or__',\n",
       " '__pos__',\n",
       " '__pow__',\n",
       " '__radd__',\n",
       " '__rand__',\n",
       " '__rdivmod__',\n",
       " '__reduce__',\n",
       " '__reduce_ex__',\n",
       " '__repr__',\n",
       " '__rfloordiv__',\n",
       " '__rlshift__',\n",
       " '__rmod__',\n",
       " '__rmul__',\n",
       " '__ror__',\n",
       " '__round__',\n",
       " '__rpow__',\n",
       " '__rrshift__',\n",
       " '__rshift__',\n",
       " '__rsub__',\n",
       " '__rtruediv__',\n",
       " '__rxor__',\n",
       " '__setattr__',\n",
       " '__sizeof__',\n",
       " '__str__',\n",
       " '__sub__',\n",
       " '__subclasshook__',\n",
       " '__truediv__',\n",
       " '__trunc__',\n",
       " '__xor__',\n",
       " 'as_integer_ratio',\n",
       " 'bit_count',\n",
       " 'bit_length',\n",
       " 'conjugate',\n",
       " 'denominator',\n",
       " 'from_bytes',\n",
       " 'imag',\n",
       " 'numerator',\n",
       " 'real',\n",
       " 'to_bytes']"
      ]
     },
     "execution_count": 18,
     "metadata": {},
     "output_type": "execute_result"
    }
   ],
   "source": [
    "# Funcionalidades\n",
    "dir(bool)"
   ]
  },
  {
   "cell_type": "code",
   "execution_count": 19,
   "id": "b9618551",
   "metadata": {},
   "outputs": [
    {
     "data": {
      "text/plain": [
       "(b'\\x01', 1)"
      ]
     },
     "execution_count": 19,
     "metadata": {},
     "output_type": "execute_result"
    }
   ],
   "source": [
    "# Aplicar funciones\n",
    "verdadero.to_bytes(), verdadero.conjugate()"
   ]
  },
  {
   "cell_type": "markdown",
   "id": "dd898325",
   "metadata": {},
   "source": [
    "### Cadenas de Texto"
   ]
  },
  {
   "cell_type": "code",
   "execution_count": 20,
   "id": "237678aa",
   "metadata": {},
   "outputs": [],
   "source": [
    "# Ejemplos\n",
    "cadena_simple = 'Hola, Python'\n",
    "cadena_dobles = \"Hola, Python\"\n",
    "cadena_triples = \"\"\"\n",
    "Este es un ejemplo de comillas triples con \n",
    "múltiples renglones.\n",
    "\"\"\""
   ]
  },
  {
   "cell_type": "code",
   "execution_count": 21,
   "id": "de3deecf",
   "metadata": {},
   "outputs": [
    {
     "data": {
      "text/plain": [
       "('Hola, Python',\n",
       " 'Hola, Python',\n",
       " '\\nEste es un ejemplo de comillas triples con \\nmúltiples renglones.\\n')"
      ]
     },
     "execution_count": 21,
     "metadata": {},
     "output_type": "execute_result"
    }
   ],
   "source": [
    "cadena_simple, cadena_dobles, cadena_triples"
   ]
  },
  {
   "cell_type": "code",
   "execution_count": 22,
   "id": "53c61b87",
   "metadata": {},
   "outputs": [
    {
     "data": {
      "text/plain": [
       "'Juan Pérez'"
      ]
     },
     "execution_count": 22,
     "metadata": {},
     "output_type": "execute_result"
    }
   ],
   "source": [
    "# Concatenar\n",
    "nombre = \"Juan\"\n",
    "apellido = \"Pérez\"\n",
    "\n",
    "nombre_completo = nombre + \" \" + apellido\n",
    "nombre_completo"
   ]
  },
  {
   "cell_type": "code",
   "execution_count": 23,
   "id": "f5f76b0f",
   "metadata": {
    "scrolled": true
   },
   "outputs": [
    {
     "data": {
      "text/plain": [
       "['__add__',\n",
       " '__class__',\n",
       " '__contains__',\n",
       " '__delattr__',\n",
       " '__dir__',\n",
       " '__doc__',\n",
       " '__eq__',\n",
       " '__format__',\n",
       " '__ge__',\n",
       " '__getattribute__',\n",
       " '__getitem__',\n",
       " '__getnewargs__',\n",
       " '__getstate__',\n",
       " '__gt__',\n",
       " '__hash__',\n",
       " '__init__',\n",
       " '__init_subclass__',\n",
       " '__iter__',\n",
       " '__le__',\n",
       " '__len__',\n",
       " '__lt__',\n",
       " '__mod__',\n",
       " '__mul__',\n",
       " '__ne__',\n",
       " '__new__',\n",
       " '__reduce__',\n",
       " '__reduce_ex__',\n",
       " '__repr__',\n",
       " '__rmod__',\n",
       " '__rmul__',\n",
       " '__setattr__',\n",
       " '__sizeof__',\n",
       " '__str__',\n",
       " '__subclasshook__',\n",
       " 'capitalize',\n",
       " 'casefold',\n",
       " 'center',\n",
       " 'count',\n",
       " 'encode',\n",
       " 'endswith',\n",
       " 'expandtabs',\n",
       " 'find',\n",
       " 'format',\n",
       " 'format_map',\n",
       " 'index',\n",
       " 'isalnum',\n",
       " 'isalpha',\n",
       " 'isascii',\n",
       " 'isdecimal',\n",
       " 'isdigit',\n",
       " 'isidentifier',\n",
       " 'islower',\n",
       " 'isnumeric',\n",
       " 'isprintable',\n",
       " 'isspace',\n",
       " 'istitle',\n",
       " 'isupper',\n",
       " 'join',\n",
       " 'ljust',\n",
       " 'lower',\n",
       " 'lstrip',\n",
       " 'maketrans',\n",
       " 'partition',\n",
       " 'removeprefix',\n",
       " 'removesuffix',\n",
       " 'replace',\n",
       " 'rfind',\n",
       " 'rindex',\n",
       " 'rjust',\n",
       " 'rpartition',\n",
       " 'rsplit',\n",
       " 'rstrip',\n",
       " 'split',\n",
       " 'splitlines',\n",
       " 'startswith',\n",
       " 'strip',\n",
       " 'swapcase',\n",
       " 'title',\n",
       " 'translate',\n",
       " 'upper',\n",
       " 'zfill']"
      ]
     },
     "execution_count": 23,
     "metadata": {},
     "output_type": "execute_result"
    }
   ],
   "source": [
    "# Operaciones \n",
    "dir(str)"
   ]
  },
  {
   "cell_type": "code",
   "execution_count": 24,
   "id": "de58be71",
   "metadata": {},
   "outputs": [
    {
     "name": "stdout",
     "output_type": "stream",
     "text": [
      "Mayúsculas: HOLA, ¿CÓMO ESTÁS?\n",
      "Minúsculas: hola, ¿cómo estás?\n",
      "Reemplazar: Hooooola, ¿Cómo estás?\n"
     ]
    }
   ],
   "source": [
    "texto = \"Hola, ¿Cómo estás?\"\n",
    "print(\"Mayúsculas:\", texto.upper())\n",
    "print(\"Minúsculas:\", texto.lower())\n",
    "print(\"Reemplazar:\", texto.replace(\"Hola\", \"Hooooola\"))"
   ]
  },
  {
   "cell_type": "markdown",
   "id": "c5a37775",
   "metadata": {},
   "source": [
    "### Almacenamiento de las variables"
   ]
  },
  {
   "cell_type": "code",
   "execution_count": 25,
   "id": "f6a777de",
   "metadata": {},
   "outputs": [
    {
     "data": {
      "text/plain": [
       "140715721004104"
      ]
     },
     "execution_count": 25,
     "metadata": {},
     "output_type": "execute_result"
    }
   ],
   "source": [
    "valor = 10\n",
    "# Conocer su ubicación\n",
    "id(valor)"
   ]
  }
 ],
 "metadata": {
  "kernelspec": {
   "display_name": "Python 3 (ipykernel)",
   "language": "python",
   "name": "python3"
  },
  "language_info": {
   "codemirror_mode": {
    "name": "ipython",
    "version": 3
   },
   "file_extension": ".py",
   "mimetype": "text/x-python",
   "name": "python",
   "nbconvert_exporter": "python",
   "pygments_lexer": "ipython3",
   "version": "3.11.5"
  }
 },
 "nbformat": 4,
 "nbformat_minor": 5
}

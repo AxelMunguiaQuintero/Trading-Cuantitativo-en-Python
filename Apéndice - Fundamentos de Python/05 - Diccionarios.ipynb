{
 "cells": [
  {
   "cell_type": "markdown",
   "id": "2b696aed",
   "metadata": {},
   "source": [
    "<div style=\"overflow: hidden; margin-right: 50px;\">\n",
    "<img src=\"recursos/python.png\" alt=\"Python\" style=\"float: right; margin-left: 20px;\" width=\"200\"/>\n",
    "<h1 style=\"text-align: justify;\">Diccionarios</h1>\n",
    "<p style=\"text-align: justify;\">\n",
    "\n",
    "Los diccionarios en Python son colecciones desordenadas de elementos almacenados en pares clave-valor. Permiten almacenar y acceder a datos con una clave única, facilitando la gestión eficiente de información. Son mutables, dinámicos y pueden contener diversos tipos de datos como valores.\n",
    "    \n",
    "</p>\n",
    "</div>"
   ]
  },
  {
   "cell_type": "code",
   "execution_count": 1,
   "id": "68b4b601",
   "metadata": {
    "scrolled": false
   },
   "outputs": [
    {
     "name": "stdout",
     "output_type": "stream",
     "text": [
      "Nombre: Juan\n",
      "Edad: 30\n"
     ]
    }
   ],
   "source": [
    "# Crear un diccionario\n",
    "informacion_persona = {\n",
    "    \"nombre\": \"Juan\",\n",
    "    \"edad\": 30,\n",
    "    \"país\": \"Costa Rica\"\n",
    "}\n",
    "\n",
    "# Acceder a valores mediante claves\n",
    "nombre_persona = informacion_persona[\"nombre\"]\n",
    "edad_persona = informacion_persona[\"edad\"]\n",
    "\n",
    "# Imprimir los valores\n",
    "print(\"Nombre:\", nombre_persona)\n",
    "print(\"Edad:\", edad_persona)"
   ]
  },
  {
   "cell_type": "code",
   "execution_count": 2,
   "id": "850fe4a3",
   "metadata": {},
   "outputs": [
    {
     "data": {
      "text/plain": [
       "{'Diccionarios': {'numeros': [1, 2, 3, 4]},\n",
       " 'tuplas': (1, 2, 3, 4),\n",
       " 'conjuntos': {5, 'a', 'ejemplo'}}"
      ]
     },
     "execution_count": 2,
     "metadata": {},
     "output_type": "execute_result"
    }
   ],
   "source": [
    "# Se puede guardar cualquier tipo de dato\n",
    "diccionario = {\"Diccionarios\": {\"numeros\": [1, 2, 3, 4]},\n",
    "               \"tuplas\": (1, 2, 3, 4),\n",
    "                \"conjuntos\": set((\"a\", \"ejemplo\", 5))}\n",
    "diccionario"
   ]
  },
  {
   "cell_type": "code",
   "execution_count": 3,
   "id": "5388464a",
   "metadata": {
    "scrolled": true
   },
   "outputs": [
    {
     "data": {
      "text/plain": [
       "['__class__',\n",
       " '__class_getitem__',\n",
       " '__contains__',\n",
       " '__delattr__',\n",
       " '__delitem__',\n",
       " '__dir__',\n",
       " '__doc__',\n",
       " '__eq__',\n",
       " '__format__',\n",
       " '__ge__',\n",
       " '__getattribute__',\n",
       " '__getitem__',\n",
       " '__getstate__',\n",
       " '__gt__',\n",
       " '__hash__',\n",
       " '__init__',\n",
       " '__init_subclass__',\n",
       " '__ior__',\n",
       " '__iter__',\n",
       " '__le__',\n",
       " '__len__',\n",
       " '__lt__',\n",
       " '__ne__',\n",
       " '__new__',\n",
       " '__or__',\n",
       " '__reduce__',\n",
       " '__reduce_ex__',\n",
       " '__repr__',\n",
       " '__reversed__',\n",
       " '__ror__',\n",
       " '__setattr__',\n",
       " '__setitem__',\n",
       " '__sizeof__',\n",
       " '__str__',\n",
       " '__subclasshook__',\n",
       " 'clear',\n",
       " 'copy',\n",
       " 'fromkeys',\n",
       " 'get',\n",
       " 'items',\n",
       " 'keys',\n",
       " 'pop',\n",
       " 'popitem',\n",
       " 'setdefault',\n",
       " 'update',\n",
       " 'values']"
      ]
     },
     "execution_count": 3,
     "metadata": {},
     "output_type": "execute_result"
    }
   ],
   "source": [
    "# Funcionalidades de los diccionarios\n",
    "dir(dict)"
   ]
  },
  {
   "cell_type": "markdown",
   "id": "dcad5ead",
   "metadata": {},
   "source": [
    "### Clear"
   ]
  },
  {
   "cell_type": "code",
   "execution_count": 4,
   "id": "6abbfa51",
   "metadata": {},
   "outputs": [
    {
     "name": "stdout",
     "output_type": "stream",
     "text": [
      "{}\n"
     ]
    }
   ],
   "source": [
    "# Crear un diccionario con datos sobre libros y sus géneros.\n",
    "libros = {\"Harry Potter\": \"Fantasía\", \"1984\": \"Ciencia Ficción\", \"Cien años de soledad\": \"Realismo Mágico\"}\n",
    "\n",
    "# Limpiar el diccionario para eliminar la información de géneros.\n",
    "libros.clear()\n",
    "\n",
    "# Imprimir el diccionario vacío después de eliminar la información de géneros.\n",
    "print(libros) "
   ]
  },
  {
   "cell_type": "markdown",
   "id": "525e40d6",
   "metadata": {},
   "source": [
    "### Copy\n"
   ]
  },
  {
   "cell_type": "code",
   "execution_count": 5,
   "id": "bdbfafad",
   "metadata": {
    "scrolled": true
   },
   "outputs": [
    {
     "name": "stdout",
     "output_type": "stream",
     "text": [
      "{'Manzana': 'Rojo', 'Banana': 'Amarillo', 'Uva': 'Morado'}\n"
     ]
    }
   ],
   "source": [
    "# Crear un diccionario con datos sobre frutas y sus colores.\n",
    "frutas_colores = {\"Manzana\": \"Rojo\", \"Banana\": \"Amarillo\", \"Uva\": \"Morado\"}\n",
    "\n",
    "# Crear una copia del diccionario de frutas y colores.\n",
    "copia_frutas_colores = frutas_colores.copy()\n",
    "\n",
    "# Imprimir la copia del diccionario de frutas y colores.\n",
    "print(copia_frutas_colores)"
   ]
  },
  {
   "cell_type": "markdown",
   "id": "66daef93",
   "metadata": {},
   "source": [
    "### Fromkeys"
   ]
  },
  {
   "cell_type": "code",
   "execution_count": 6,
   "id": "c8d662fe",
   "metadata": {},
   "outputs": [
    {
     "name": "stdout",
     "output_type": "stream",
     "text": [
      "{'marca': 'No especificado', 'modelo': 'No especificado', 'color': 'No especificado'}\n"
     ]
    }
   ],
   "source": [
    "# Crear una lista de atributos para un vehículo.\n",
    "atributos_vehiculo = [\"marca\", \"modelo\", \"color\"]\n",
    "valor_predeterminado = \"No especificado\"\n",
    "\n",
    "# Crear un diccionario de atributos de vehículo con valores predeterminados.\n",
    "vehiculo_dict = dict.fromkeys(atributos_vehiculo, valor_predeterminado)\n",
    "\n",
    "# Imprimir el diccionario de atributos de vehículo con valores predeterminados.\n",
    "print(vehiculo_dict) "
   ]
  },
  {
   "cell_type": "markdown",
   "id": "923cef7a",
   "metadata": {},
   "source": [
    "### Get"
   ]
  },
  {
   "cell_type": "code",
   "execution_count": 7,
   "id": "fbc69a95",
   "metadata": {},
   "outputs": [
    {
     "name": "stdout",
     "output_type": "stream",
     "text": [
      "París\n"
     ]
    }
   ],
   "source": [
    "# Crear un diccionario con información sobre países y sus capitales.\n",
    "paises_capitales = {\"Estados Unidos\": \"Washington D.C.\", \"Francia\": \"París\", \"Japón\": \"Tokio\"}\n",
    "\n",
    "# Obtener la capital de Francia utilizando el método get.\n",
    "capital_fran = paises_capitales.get(\"Francia\", \"No especificada\")\n",
    "\n",
    "# Imprimir la capital de Francia.\n",
    "print(capital_fran)"
   ]
  },
  {
   "cell_type": "markdown",
   "id": "63dc6c3a",
   "metadata": {},
   "source": [
    "### Keys"
   ]
  },
  {
   "cell_type": "code",
   "execution_count": 8,
   "id": "3d020d69",
   "metadata": {},
   "outputs": [
    {
     "name": "stdout",
     "output_type": "stream",
     "text": [
      "dict_keys(['Matemáticas', 'Historia', 'Inglés'])\n"
     ]
    }
   ],
   "source": [
    "# Crear un diccionario con información sobre asignaturas y sus códigos.\n",
    "asignaturas_codigos = {\"Matemáticas\": \"MAT101\", \"Historia\": \"HIS201\", \"Inglés\": \"ENG301\"}\n",
    "\n",
    "# Obtener una vista de las claves (asignaturas) del diccionario.\n",
    "claves_asignaturas = asignaturas_codigos.keys()\n",
    "\n",
    "# Imprimir la vista de claves (asignaturas).\n",
    "print(claves_asignaturas)"
   ]
  },
  {
   "cell_type": "markdown",
   "id": "f0fcc864",
   "metadata": {},
   "source": [
    "### Pop"
   ]
  },
  {
   "cell_type": "code",
   "execution_count": 9,
   "id": "08a53c81",
   "metadata": {},
   "outputs": [
    {
     "name": "stdout",
     "output_type": "stream",
     "text": [
      "105\n",
      "{'Manzana': 95, 'Naranja': 62}\n"
     ]
    }
   ],
   "source": [
    "# Crear un diccionario con información sobre alimentos y sus calorías.\n",
    "alimentos_calorias = {\"Manzana\": 95, \"Banana\": 105, \"Naranja\": 62}\n",
    "\n",
    "# Eliminar la información de las calorías de la Banana utilizando el método pop.\n",
    "calorias_banana = alimentos_calorias.pop(\"Banana\")\n",
    "print(calorias_banana) # Regresa solo el valor\n",
    "\n",
    "# Imprimir el diccionario después de eliminar la información de las calorías de la Banana.\n",
    "print(alimentos_calorias)"
   ]
  },
  {
   "cell_type": "markdown",
   "id": "a06dc77f",
   "metadata": {},
   "source": [
    "### Popitem"
   ]
  },
  {
   "cell_type": "code",
   "execution_count": 15,
   "id": "4af6bd40",
   "metadata": {},
   "outputs": [
    {
     "name": "stdout",
     "output_type": "stream",
     "text": [
      "('Marte', 227.9)\n",
      "{'Mercurio': 57.9, 'Venus': 108.2}\n"
     ]
    }
   ],
   "source": [
    "# Crear un diccionario con información sobre planetas y sus distancias al sol.\n",
    "planetas_distancias = {'Mercurio': 57.9, 'Venus': 108.2, 'Marte': 227.9}\n",
    "\n",
    "# Eliminar y obtener un par clave-valor arbitrario utilizando el método popitem.\n",
    "planeta_removido = planetas_distancias.popitem() # Elimina último valor\n",
    "\n",
    "# Imprimir el par clave-valor eliminado del diccionario.\n",
    "print(planeta_removido)\n",
    "print(planetas_distancias)"
   ]
  },
  {
   "cell_type": "markdown",
   "id": "44bed0b3",
   "metadata": {},
   "source": [
    "### Setdefault"
   ]
  },
  {
   "cell_type": "code",
   "execution_count": 11,
   "id": "4748581a",
   "metadata": {},
   "outputs": [
    {
     "name": "stdout",
     "output_type": "stream",
     "text": [
      "{'Rojo': '#FF0000', 'Verde': '#00FF00', 'Azul': '#0000FF'}\n"
     ]
    }
   ],
   "source": [
    "# Crear un diccionario con información sobre colores y sus códigos hexadecimales.\n",
    "colores_codigos = {'Rojo': '#FF0000', 'Verde': '#00FF00'}\n",
    "\n",
    "# Insertar el código hexadecimal del color Azul utilizando el método setdefault.\n",
    "codigo_azul = colores_codigos.setdefault('Azul', '#0000FF')\n",
    "\n",
    "# Imprimir el diccionario después de agregar el color Azul con su código hexadecimal.\n",
    "print(colores_codigos)"
   ]
  },
  {
   "cell_type": "markdown",
   "id": "72c01021",
   "metadata": {},
   "source": [
    "### Update"
   ]
  },
  {
   "cell_type": "code",
   "execution_count": 12,
   "id": "9a4abfa2",
   "metadata": {},
   "outputs": [
    {
     "name": "stdout",
     "output_type": "stream",
     "text": [
      "{'Tarea1': 'Completada', 'Tarea2': 'En progreso', 'Tarea3': 'Pendiente'}\n"
     ]
    }
   ],
   "source": [
    "# Crear un diccionario con información sobre tareas y sus estados.\n",
    "tareas_estados = {'Tarea1': 'Pendiente', 'Tarea2': 'En progreso'}\n",
    "\n",
    "# Actualizar el estado de las tareas utilizando el método update.\n",
    "nuevos_estados = {'Tarea1': 'Completada', 'Tarea3': 'Pendiente'}\n",
    "tareas_estados.update(nuevos_estados)\n",
    "\n",
    "# Imprimir el diccionario después de la actualización de estados.\n",
    "print(tareas_estados) "
   ]
  },
  {
   "cell_type": "markdown",
   "id": "4da4c041",
   "metadata": {},
   "source": [
    "### Values"
   ]
  },
  {
   "cell_type": "code",
   "execution_count": 13,
   "id": "48a01601",
   "metadata": {},
   "outputs": [
    {
     "name": "stdout",
     "output_type": "stream",
     "text": [
      "dict_values([1200, 600, 300])\n"
     ]
    }
   ],
   "source": [
    "# Crear un diccionario con información sobre productos y sus precios.\n",
    "productos_precios = {'Laptop': 1200, 'Teléfono': 600, 'Tablet': 300}\n",
    "\n",
    "# Obtener una vista de los precios de los productos utilizando el método values.\n",
    "precios_productos = productos_precios.values()\n",
    "\n",
    "# Imprimir la vista de precios de los productos.\n",
    "print(precios_productos)"
   ]
  },
  {
   "cell_type": "markdown",
   "id": "7a6987ad",
   "metadata": {},
   "source": [
    "### Items"
   ]
  },
  {
   "cell_type": "code",
   "execution_count": 14,
   "id": "0eda1f6a",
   "metadata": {},
   "outputs": [
    {
     "name": "stdout",
     "output_type": "stream",
     "text": [
      "dict_items([('Titanic', 1997), ('Matrix', 1999), ('El Padrino', 1972)])\n"
     ]
    }
   ],
   "source": [
    "# Crear un diccionario con información sobre películas y sus años de estreno.\n",
    "peliculas_anios = {\"Titanic\": 1997, \"Matrix\": 1999, \"El Padrino\": 1972}\n",
    "\n",
    "# Obtener una vista de tuplas representando pares película-año.\n",
    "info_peliculas = peliculas_anios.items()\n",
    "\n",
    "# Imprimir la vista de pares película-año.\n",
    "print(info_peliculas)"
   ]
  }
 ],
 "metadata": {
  "kernelspec": {
   "display_name": "Python 3 (ipykernel)",
   "language": "python",
   "name": "python3"
  },
  "language_info": {
   "codemirror_mode": {
    "name": "ipython",
    "version": 3
   },
   "file_extension": ".py",
   "mimetype": "text/x-python",
   "name": "python",
   "nbconvert_exporter": "python",
   "pygments_lexer": "ipython3",
   "version": "3.11.5"
  }
 },
 "nbformat": 4,
 "nbformat_minor": 5
}

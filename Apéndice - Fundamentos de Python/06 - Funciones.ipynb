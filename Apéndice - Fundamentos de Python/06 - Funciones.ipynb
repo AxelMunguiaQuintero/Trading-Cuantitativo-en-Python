{
 "cells": [
  {
   "cell_type": "markdown",
   "id": "da0ddb3a",
   "metadata": {},
   "source": [
    "<div style=\"overflow: hidden; margin-right: 50px;\">\n",
    "<img src=\"recursos/python.png\" alt=\"Python\" style=\"float: right; margin-left: 20px;\" width=\"150\"/>\n",
    "<h1 style=\"text-align: justify;\">Funciones</h1>\n",
    "<p style=\"text-align: justify;\">\n",
    "\n",
    "Las funciones en Python son bloques de código reutilizable que realizan una tarea específica. Permiten modularizar el código, mejorar su legibilidad y mantenimiento. Se definen con la palabra clave \"def\", pueden recibir parámetros y devolver valores.\n",
    "    \n",
    "</p>\n",
    "</div>"
   ]
  },
  {
   "cell_type": "code",
   "execution_count": 1,
   "id": "68bfe43e",
   "metadata": {},
   "outputs": [
    {
     "name": "stdout",
     "output_type": "stream",
     "text": [
      "¡Hola, Andrea!\n"
     ]
    }
   ],
   "source": [
    "# Definir ejemplo\n",
    "def saludar(nombre: str) -> None:\n",
    "    \n",
    "    \"\"\"\n",
    "    Saludar por consola\n",
    "    \"\"\"\n",
    "    \n",
    "    print(f\"¡Hola, {nombre}!\")\n",
    "    \n",
    "# Llamar a la función\n",
    "saludar(\"Andrea\")"
   ]
  },
  {
   "cell_type": "code",
   "execution_count": 2,
   "id": "40c4af29",
   "metadata": {},
   "outputs": [
    {
     "name": "stdout",
     "output_type": "stream",
     "text": [
      "¡Hola, Roberto! Te saludan desde Francia\n"
     ]
    }
   ],
   "source": [
    "def saludar_pais(nombre: str, pais: str = \"Francia\") -> None:\n",
    "    \n",
    "    \"\"\"\n",
    "    Saludar por consola\n",
    "    \"\"\"\n",
    "    \n",
    "    print(f\"¡Hola, {nombre}! Te saludan desde {pais}\")\n",
    "    \n",
    "# Llamar a la función\n",
    "saludar_pais(\"Roberto\")"
   ]
  },
  {
   "cell_type": "code",
   "execution_count": 3,
   "id": "1c1062d0",
   "metadata": {},
   "outputs": [
    {
     "data": {
      "text/plain": [
       "3.0"
      ]
     },
     "execution_count": 3,
     "metadata": {},
     "output_type": "execute_result"
    }
   ],
   "source": [
    "def raiz_cuadrada(x: float) -> float:\n",
    "    \n",
    "    \"\"\"\n",
    "    Calcula la raíz cuadrada de un valor\n",
    "    \"\"\"\n",
    "    \n",
    "    return x**(1/2)\n",
    "\n",
    "# Llamar a la función\n",
    "raiz_cuadrada(9)"
   ]
  },
  {
   "cell_type": "markdown",
   "id": "9503c837",
   "metadata": {},
   "source": [
    "### Funciones lambda\n",
    "\n",
    "Son funciones anónimas, definidas en una sola línea, para tareas simples."
   ]
  },
  {
   "cell_type": "code",
   "execution_count": 4,
   "id": "85763c95",
   "metadata": {},
   "outputs": [
    {
     "data": {
      "text/plain": [
       "'Luis Rodriguez'"
      ]
     },
     "execution_count": 4,
     "metadata": {},
     "output_type": "execute_result"
    }
   ],
   "source": [
    "concatenar_sentencias = lambda x, y: x + \" \" + y\n",
    "concatenar_sentencias(\"Luis\", \"Rodriguez\")"
   ]
  }
 ],
 "metadata": {
  "kernelspec": {
   "display_name": "Python 3 (ipykernel)",
   "language": "python",
   "name": "python3"
  },
  "language_info": {
   "codemirror_mode": {
    "name": "ipython",
    "version": 3
   },
   "file_extension": ".py",
   "mimetype": "text/x-python",
   "name": "python",
   "nbconvert_exporter": "python",
   "pygments_lexer": "ipython3",
   "version": "3.11.5"
  }
 },
 "nbformat": 4,
 "nbformat_minor": 5
}

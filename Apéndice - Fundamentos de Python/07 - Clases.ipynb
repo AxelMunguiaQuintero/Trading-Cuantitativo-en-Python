{
 "cells": [
  {
   "cell_type": "markdown",
   "id": "3706f62d",
   "metadata": {},
   "source": [
    "<div style=\"overflow: hidden; margin-right: 50px;\">\n",
    "<img src=\"recursos/python.png\" alt=\"Python\" style=\"float: right; margin-left: 20px; margin-top: 10px;\" width=\"150\"/>\n",
    "<h1 style=\"text-align: justify;\">Clases</h1>\n",
    "<p style=\"text-align: justify;\">\n",
    "\n",
    "\n",
    "En Python, una clase es un modelo para crear objetos que agrupan datos y funciones relacionadas. Define la estructura y comportamiento de los objetos. Las clases permiten la reutilización de código y la implementación de la programación orientada a objetos.\n",
    "\n",
    "</p>\n",
    "</div>"
   ]
  },
  {
   "cell_type": "code",
   "execution_count": 1,
   "id": "2543ceb4",
   "metadata": {},
   "outputs": [],
   "source": [
    "class Auto:\n",
    "    \n",
    "    \"\"\"\n",
    "    Clase que representa una abstracción de un auto en el mundo real.\n",
    "    \"\"\"\n",
    "    \n",
    "    def __init__(self, marca, modelo, color):\n",
    "        \n",
    "        # Definir atributos\n",
    "        self.marca = marca\n",
    "        self.modelo = modelo\n",
    "        self.color = color\n",
    "        self.encendido = False\n",
    "        self.velocidad = 0\n",
    "        \n",
    "    def encender(self):\n",
    "        if not self.encendido:\n",
    "            print(f\"El {self.marca} {self.modelo} {self.color} se ha encendido\")\n",
    "            self.encendido = True\n",
    "        else:\n",
    "            print(\"El auto ya está encendido\")\n",
    "            \n",
    "    def apagar(self):\n",
    "        if self.encendido:\n",
    "            print(f\"El {self.marca} {self.modelo} {self.color} se ha apagado\")\n",
    "            self.encendido = False\n",
    "            self.velocidad = 0\n",
    "        else:\n",
    "            print(\"El auto ya está apagado\")\n",
    "    \n",
    "    def acelerar(self, velocidad):\n",
    "        if self.encendido:\n",
    "            self.velocidad += velocidad\n",
    "            print(f\"El {self.marca} {self.modelo} {self.color} acelera a {self.velocidad} km/h\")\n",
    "        else:\n",
    "            print(\"¡Encender el auto primero!\")"
   ]
  },
  {
   "cell_type": "code",
   "execution_count": 2,
   "id": "ebf4611b",
   "metadata": {},
   "outputs": [
    {
     "name": "stdout",
     "output_type": "stream",
     "text": [
      "El Toyota Corolla Blanco se ha encendido\n",
      "El Toyota Corolla Blanco acelera a 50 km/h\n",
      "El Toyota Corolla Blanco se ha apagado\n"
     ]
    }
   ],
   "source": [
    "# Crear una instancia de la clase Auto\n",
    "auto1 = Auto(marca=\"Toyota\", modelo=\"Corolla\", color=\"Blanco\")\n",
    "\n",
    "# Interactuar con nuestro auto\n",
    "auto1.encender()\n",
    "auto1.acelerar(50)\n",
    "auto1.apagar()"
   ]
  },
  {
   "cell_type": "code",
   "execution_count": 3,
   "id": "22e32898",
   "metadata": {},
   "outputs": [
    {
     "name": "stdout",
     "output_type": "stream",
     "text": [
      "El Ford Fiesta Negro se ha encendido\n",
      "El Ford Fiesta Negro acelera a 50 km/h\n",
      "El Ford Fiesta Negro se ha apagado\n"
     ]
    }
   ],
   "source": [
    "# Crear una instancia de la clase Auto\n",
    "auto2 = Auto(marca=\"Ford\", modelo=\"Fiesta\", color=\"Negro\")\n",
    "\n",
    "# Interactuar con nuestro auto\n",
    "auto2.encender()\n",
    "auto2.acelerar(50)\n",
    "auto2.apagar()"
   ]
  }
 ],
 "metadata": {
  "kernelspec": {
   "display_name": "Python 3 (ipykernel)",
   "language": "python",
   "name": "python3"
  },
  "language_info": {
   "codemirror_mode": {
    "name": "ipython",
    "version": 3
   },
   "file_extension": ".py",
   "mimetype": "text/x-python",
   "name": "python",
   "nbconvert_exporter": "python",
   "pygments_lexer": "ipython3",
   "version": "3.11.5"
  }
 },
 "nbformat": 4,
 "nbformat_minor": 5
}

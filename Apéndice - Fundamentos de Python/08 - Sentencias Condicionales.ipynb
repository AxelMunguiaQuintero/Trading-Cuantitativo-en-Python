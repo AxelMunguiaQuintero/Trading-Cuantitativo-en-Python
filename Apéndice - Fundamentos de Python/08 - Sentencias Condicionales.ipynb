{
 "cells": [
  {
   "cell_type": "markdown",
   "id": "3002ce89",
   "metadata": {},
   "source": [
    "<div style=\"overflow: hidden; margin-right: 50px;\">\n",
    "<img src=\"recursos/python.png\" alt=\"Python\" style=\"float: right; margin-left: 20px;\" width=\"150\"/>\n",
    "<h1 style=\"text-align: justify;\">Sentencias Condicionales</h1>\n",
    "<p style=\"text-align: justify;\">\n",
    "\n",
    "\n",
    "Las sentencias condicionales son estructuras de control que permiten ejecutar bloques de código basados en condiciones lógicas, como if, else, y elif, en Python.\n",
    "    \n",
    "</p>\n",
    "</div>"
   ]
  },
  {
   "cell_type": "code",
   "execution_count": 1,
   "id": "50f89ffc",
   "metadata": {},
   "outputs": [
    {
     "name": "stdout",
     "output_type": "stream",
     "text": [
      "Buenas tardes\n"
     ]
    }
   ],
   "source": [
    "# Ejemplo 1: Imprimir un mensaje basado en el horario\n",
    "hora_actual = 15\n",
    "\n",
    "if 5 <= hora_actual < 12:\n",
    "    mensaje = \"Buenos días\"\n",
    "elif 12 <= hora_actual < 18:\n",
    "    mensaje = \"Buenas tardes\"\n",
    "else:\n",
    "    mensaje = \"Buenas noches\"\n",
    "    \n",
    "print(mensaje)"
   ]
  },
  {
   "cell_type": "code",
   "execution_count": 2,
   "id": "96af9209",
   "metadata": {},
   "outputs": [
    {
     "name": "stdout",
     "output_type": "stream",
     "text": [
      "agradable\n"
     ]
    }
   ],
   "source": [
    "# Ejemplo 2: Simular el estado de la tempurado en grados celsius\n",
    "temperatura = 28\n",
    "\n",
    "if temperatura > 30:\n",
    "    estado = \"calor\"\n",
    "elif 20 <= temperatura <= 30:\n",
    "    estado = \"agradable\"\n",
    "else:\n",
    "    estado = \"inconsistente\"\n",
    "    \n",
    "print(estado)"
   ]
  },
  {
   "cell_type": "code",
   "execution_count": 3,
   "id": "cc6305da",
   "metadata": {},
   "outputs": [
    {
     "name": "stdout",
     "output_type": "stream",
     "text": [
      "Puedes observar las estrellas\n"
     ]
    }
   ],
   "source": [
    "# Ejemplo 3: Simulación de condiciones climáticas y horas del día\n",
    "es_dia = False\n",
    "esta_lluvioso = True\n",
    "\n",
    "# Evaluación de las condiciones climáticas\n",
    "if es_dia:\n",
    "    if esta_lluvioso:\n",
    "        print(\"No salgas de casa o no olvides tu sombrilla\")\n",
    "    else:\n",
    "        print(\"Es un magnífico día\")\n",
    "else:\n",
    "    print(\"Puedes observar las estrellas\")"
   ]
  }
 ],
 "metadata": {
  "kernelspec": {
   "display_name": "Python 3 (ipykernel)",
   "language": "python",
   "name": "python3"
  },
  "language_info": {
   "codemirror_mode": {
    "name": "ipython",
    "version": 3
   },
   "file_extension": ".py",
   "mimetype": "text/x-python",
   "name": "python",
   "nbconvert_exporter": "python",
   "pygments_lexer": "ipython3",
   "version": "3.11.5"
  }
 },
 "nbformat": 4,
 "nbformat_minor": 5
}

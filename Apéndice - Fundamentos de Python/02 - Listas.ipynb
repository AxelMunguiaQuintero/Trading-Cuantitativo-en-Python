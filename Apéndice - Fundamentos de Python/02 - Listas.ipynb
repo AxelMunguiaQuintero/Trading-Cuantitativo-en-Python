{
 "cells": [
  {
   "cell_type": "markdown",
   "id": "99fb52dc",
   "metadata": {},
   "source": [
    "<div style=\"overflow: hidden; margin-right: 50px;\">\n",
    "<img src=\"recursos/python.png\" alt=\"Python\" style=\"float: right; margin-left: 20px;\" width=\"150\"/>\n",
    "<h1 style=\"text-align: justify;\">Listas</h1>\n",
    "<p style=\"text-align: justify;\">\n",
    "\n",
    "Una lista en Python es una estructura de datos que puede contener elementos de cualquier tipo, como números, cadenas de texto, booleanos, etc. Se define usando corchetes [\"A\", 2, [1, 2, 3], 4.0] con elementos separados por comas. Las listas son mutables, lo que significa que se pueden modificar añadiendo, eliminando o cambiando elementos.\n",
    "    \n",
    "</p>\n",
    "</div>"
   ]
  },
  {
   "cell_type": "code",
   "execution_count": 1,
   "id": "43ca6d81",
   "metadata": {},
   "outputs": [
    {
     "data": {
      "text/plain": [
       "[1, 2, 3, 'cuatro', 5.0]"
      ]
     },
     "execution_count": 1,
     "metadata": {},
     "output_type": "execute_result"
    }
   ],
   "source": [
    "# Crear una lista\n",
    "mi_lista = [1, 2, 3, \"cuatro\", 5.0]\n",
    "mi_lista"
   ]
  },
  {
   "cell_type": "code",
   "execution_count": 2,
   "id": "37d582ee",
   "metadata": {},
   "outputs": [
    {
     "data": {
      "text/plain": [
       "list"
      ]
     },
     "execution_count": 2,
     "metadata": {},
     "output_type": "execute_result"
    }
   ],
   "source": [
    "# Tipo de dato\n",
    "type(mi_lista)"
   ]
  },
  {
   "cell_type": "code",
   "execution_count": 3,
   "id": "d6492bbf",
   "metadata": {},
   "outputs": [
    {
     "data": {
      "text/plain": [
       "(1, 5.0)"
      ]
     },
     "execution_count": 3,
     "metadata": {},
     "output_type": "execute_result"
    }
   ],
   "source": [
    "# Acceder a elementos de la lista\n",
    "primer_elemento = mi_lista[0]\n",
    "ultimo_elemento = mi_lista[-1]\n",
    "primer_elemento, ultimo_elemento"
   ]
  },
  {
   "cell_type": "code",
   "execution_count": 4,
   "id": "689861f9",
   "metadata": {},
   "outputs": [
    {
     "data": {
      "text/plain": [
       "[1, 'dos', 3, 'cuatro', 5.0]"
      ]
     },
     "execution_count": 4,
     "metadata": {},
     "output_type": "execute_result"
    }
   ],
   "source": [
    "# Modificar elementos de la lista\n",
    "mi_lista[1] = \"dos\"\n",
    "mi_lista"
   ]
  },
  {
   "cell_type": "code",
   "execution_count": 5,
   "id": "e086467e",
   "metadata": {
    "scrolled": true
   },
   "outputs": [
    {
     "data": {
      "text/plain": [
       "['__add__',\n",
       " '__class__',\n",
       " '__class_getitem__',\n",
       " '__contains__',\n",
       " '__delattr__',\n",
       " '__delitem__',\n",
       " '__dir__',\n",
       " '__doc__',\n",
       " '__eq__',\n",
       " '__format__',\n",
       " '__ge__',\n",
       " '__getattribute__',\n",
       " '__getitem__',\n",
       " '__getstate__',\n",
       " '__gt__',\n",
       " '__hash__',\n",
       " '__iadd__',\n",
       " '__imul__',\n",
       " '__init__',\n",
       " '__init_subclass__',\n",
       " '__iter__',\n",
       " '__le__',\n",
       " '__len__',\n",
       " '__lt__',\n",
       " '__mul__',\n",
       " '__ne__',\n",
       " '__new__',\n",
       " '__reduce__',\n",
       " '__reduce_ex__',\n",
       " '__repr__',\n",
       " '__reversed__',\n",
       " '__rmul__',\n",
       " '__setattr__',\n",
       " '__setitem__',\n",
       " '__sizeof__',\n",
       " '__str__',\n",
       " '__subclasshook__',\n",
       " 'append',\n",
       " 'clear',\n",
       " 'copy',\n",
       " 'count',\n",
       " 'extend',\n",
       " 'index',\n",
       " 'insert',\n",
       " 'pop',\n",
       " 'remove',\n",
       " 'reverse',\n",
       " 'sort']"
      ]
     },
     "execution_count": 5,
     "metadata": {},
     "output_type": "execute_result"
    }
   ],
   "source": [
    "# Funcionalidades\n",
    "dir(list)"
   ]
  },
  {
   "cell_type": "markdown",
   "id": "27171d1b",
   "metadata": {},
   "source": [
    "### Append"
   ]
  },
  {
   "cell_type": "code",
   "execution_count": 6,
   "id": "53fa146f",
   "metadata": {},
   "outputs": [
    {
     "data": {
      "text/plain": [
       "[1, 2, 3, 4, 5]"
      ]
     },
     "execution_count": 6,
     "metadata": {},
     "output_type": "execute_result"
    }
   ],
   "source": [
    "# Ejemplo\n",
    "lista = [1, 2, 3, 4, 5]\n",
    "lista"
   ]
  },
  {
   "cell_type": "code",
   "execution_count": 7,
   "id": "f59bff3e",
   "metadata": {},
   "outputs": [
    {
     "data": {
      "text/plain": [
       "[1, 2, 3, 4, 5, 6]"
      ]
     },
     "execution_count": 7,
     "metadata": {},
     "output_type": "execute_result"
    }
   ],
   "source": [
    "# Añadir un valor\n",
    "lista.append(6)\n",
    "lista"
   ]
  },
  {
   "cell_type": "code",
   "execution_count": 8,
   "id": "37131a9f",
   "metadata": {},
   "outputs": [
    {
     "data": {
      "text/plain": [
       "[1, 2, 3, 4, 5, 6, [7, 8, 9]]"
      ]
     },
     "execution_count": 8,
     "metadata": {},
     "output_type": "execute_result"
    }
   ],
   "source": [
    "# Añadir otra lista\n",
    "lista.append([7, 8, 9])\n",
    "lista"
   ]
  },
  {
   "cell_type": "markdown",
   "id": "357b126c",
   "metadata": {},
   "source": [
    "### Clear\n"
   ]
  },
  {
   "cell_type": "code",
   "execution_count": 9,
   "id": "cae49527",
   "metadata": {},
   "outputs": [
    {
     "name": "stdout",
     "output_type": "stream",
     "text": [
      "[1, 2, 3, 4, 5, 6, [7, 8, 9]]\n",
      "[]\n"
     ]
    }
   ],
   "source": [
    "print(lista)\n",
    "lista.clear()\n",
    "print(lista)"
   ]
  },
  {
   "cell_type": "markdown",
   "id": "fa7fd6fc",
   "metadata": {},
   "source": [
    "### Copy"
   ]
  },
  {
   "cell_type": "code",
   "execution_count": 10,
   "id": "063aba3c",
   "metadata": {},
   "outputs": [
    {
     "name": "stdout",
     "output_type": "stream",
     "text": [
      "[1, 2, 3]\n"
     ]
    }
   ],
   "source": [
    "# Copiar lista\n",
    "mi_lista = [1, 2, 3]\n",
    "copiar_lista = mi_lista.copy()\n",
    "print(copiar_lista)"
   ]
  },
  {
   "cell_type": "code",
   "execution_count": 11,
   "id": "021489f1",
   "metadata": {},
   "outputs": [
    {
     "name": "stdout",
     "output_type": "stream",
     "text": [
      "[1, 'Hola', 3, 4]\n",
      "[1, 'Hola', 3, 4]\n"
     ]
    }
   ],
   "source": [
    "# Desventajas de no copiar una lista\n",
    "lista_original = [1, 2, 3, 4]\n",
    "lista_copia = lista_original\n",
    "lista_original[1] = \"Hola\"\n",
    "print(lista_original)\n",
    "print(lista_copia)"
   ]
  },
  {
   "cell_type": "code",
   "execution_count": 12,
   "id": "7e52fe1c",
   "metadata": {},
   "outputs": [
    {
     "name": "stdout",
     "output_type": "stream",
     "text": [
      "[1, 'Hola', 3, 4]\n",
      "[1, 2, 3, 4]\n"
     ]
    }
   ],
   "source": [
    "# Ventajas de utilizar método copy\n",
    "lista_original = [1, 2, 3, 4]\n",
    "lista_copia = lista_original.copy()\n",
    "lista_original[1] = \"Hola\"\n",
    "print(lista_original)\n",
    "print(lista_copia)"
   ]
  },
  {
   "cell_type": "markdown",
   "id": "a0abf5a6",
   "metadata": {},
   "source": [
    "### Count"
   ]
  },
  {
   "cell_type": "code",
   "execution_count": 13,
   "id": "6392ca2f",
   "metadata": {},
   "outputs": [
    {
     "name": "stdout",
     "output_type": "stream",
     "text": [
      "3\n"
     ]
    }
   ],
   "source": [
    "# Contar\n",
    "mi_lista = [1, 2, 2, 3, 4, 5, 2, 6, 7, 8, 9]\n",
    "contar_2 = mi_lista.count(2)\n",
    "print(contar_2)"
   ]
  },
  {
   "cell_type": "markdown",
   "id": "0ca942d0",
   "metadata": {},
   "source": [
    "### Extend"
   ]
  },
  {
   "cell_type": "code",
   "execution_count": 14,
   "id": "db4a217f",
   "metadata": {},
   "outputs": [
    {
     "data": {
      "text/plain": [
       "[1, 2, 3, 4, 5]"
      ]
     },
     "execution_count": 14,
     "metadata": {},
     "output_type": "execute_result"
    }
   ],
   "source": [
    "# Ejemplo\n",
    "lista = [1, 2, 3, 4, 5]\n",
    "lista"
   ]
  },
  {
   "cell_type": "code",
   "execution_count": 15,
   "id": "9671ec57",
   "metadata": {},
   "outputs": [
    {
     "data": {
      "text/plain": [
       "[1, 2, 3, 4, 5, 7, 8, 9]"
      ]
     },
     "execution_count": 15,
     "metadata": {},
     "output_type": "execute_result"
    }
   ],
   "source": [
    "# Extend\n",
    "lista.extend([7, 8, 9])\n",
    "lista"
   ]
  },
  {
   "cell_type": "markdown",
   "id": "13827944",
   "metadata": {},
   "source": [
    "### Index"
   ]
  },
  {
   "cell_type": "code",
   "execution_count": 16,
   "id": "e672869c",
   "metadata": {},
   "outputs": [
    {
     "name": "stdout",
     "output_type": "stream",
     "text": [
      "1\n"
     ]
    }
   ],
   "source": [
    "# Obtener primera ocurrencia\n",
    "mi_lista = [1, 2, 3, 2]\n",
    "indice = mi_lista.index(2)\n",
    "print(indice)"
   ]
  },
  {
   "cell_type": "markdown",
   "id": "a7b612f0",
   "metadata": {},
   "source": [
    "### Insert"
   ]
  },
  {
   "cell_type": "code",
   "execution_count": 17,
   "id": "b0911fe9",
   "metadata": {},
   "outputs": [
    {
     "name": "stdout",
     "output_type": "stream",
     "text": [
      "[0, 1, 2, 3]\n"
     ]
    }
   ],
   "source": [
    "# Insertar un elemento\n",
    "mi_lista = [1, 2, 3]\n",
    "mi_lista.insert(0, 0)\n",
    "print(mi_lista)"
   ]
  },
  {
   "cell_type": "code",
   "execution_count": 18,
   "id": "5fe35532",
   "metadata": {},
   "outputs": [
    {
     "name": "stdout",
     "output_type": "stream",
     "text": [
      "[1, 2, 3, 10]\n"
     ]
    }
   ],
   "source": [
    "# Insertar un elemento\n",
    "mi_lista = [1, 2, 3]\n",
    "mi_lista.insert(4, 10)\n",
    "print(mi_lista)"
   ]
  },
  {
   "cell_type": "markdown",
   "id": "b06933b4",
   "metadata": {},
   "source": [
    "### Pop"
   ]
  },
  {
   "cell_type": "code",
   "execution_count": 19,
   "id": "85a597d0",
   "metadata": {
    "scrolled": true
   },
   "outputs": [
    {
     "name": "stdout",
     "output_type": "stream",
     "text": [
      "1\n",
      "[2, 3]\n"
     ]
    }
   ],
   "source": [
    "# Eliminar en base al índice\n",
    "mi_lista = [1, 2, 3]\n",
    "indice = 0\n",
    "elemento_eliminado = mi_lista.pop(indice)\n",
    "print(elemento_eliminado)\n",
    "print(mi_lista)"
   ]
  },
  {
   "cell_type": "markdown",
   "id": "368f4b53",
   "metadata": {},
   "source": [
    "### Remove"
   ]
  },
  {
   "cell_type": "code",
   "execution_count": 20,
   "id": "19bd6cc3",
   "metadata": {},
   "outputs": [
    {
     "data": {
      "text/plain": [
       "[1, 2, 3]"
      ]
     },
     "execution_count": 20,
     "metadata": {},
     "output_type": "execute_result"
    }
   ],
   "source": [
    "# Eliminar un elemento\n",
    "mi_lista = [1, 2, 2, 3]\n",
    "mi_lista.remove(2)\n",
    "mi_lista"
   ]
  },
  {
   "cell_type": "markdown",
   "id": "e80df481",
   "metadata": {},
   "source": [
    "### Reverse"
   ]
  },
  {
   "cell_type": "code",
   "execution_count": 21,
   "id": "51f778ff",
   "metadata": {},
   "outputs": [
    {
     "data": {
      "text/plain": [
       "[3, 2, 1]"
      ]
     },
     "execution_count": 21,
     "metadata": {},
     "output_type": "execute_result"
    }
   ],
   "source": [
    "# Cambiar el orden\n",
    "mi_lista = [1, 2, 3]\n",
    "mi_lista.reverse()\n",
    "mi_lista"
   ]
  },
  {
   "cell_type": "markdown",
   "id": "c6a58006",
   "metadata": {},
   "source": [
    "### Sort"
   ]
  },
  {
   "cell_type": "code",
   "execution_count": 22,
   "id": "720589fa",
   "metadata": {},
   "outputs": [
    {
     "data": {
      "text/plain": [
       "[1, 1, 2, 3, 4, 5, 6, 8]"
      ]
     },
     "execution_count": 22,
     "metadata": {},
     "output_type": "execute_result"
    }
   ],
   "source": [
    "# Ordenar\n",
    "mi_lista = [3, 1, 1, 4, 2, 8, 5, 6]\n",
    "mi_lista.sort()\n",
    "mi_lista"
   ]
  },
  {
   "cell_type": "code",
   "execution_count": 23,
   "id": "6a3a6703",
   "metadata": {},
   "outputs": [
    {
     "data": {
      "text/plain": [
       "[8, 6, 5, 4, 3, 2, 1, 1]"
      ]
     },
     "execution_count": 23,
     "metadata": {},
     "output_type": "execute_result"
    }
   ],
   "source": [
    "# Ordenar al revés\n",
    "mi_lista = [3, 1, 1, 4, 2, 8, 5, 6]\n",
    "mi_lista.sort(reverse=True)\n",
    "mi_lista"
   ]
  }
 ],
 "metadata": {
  "kernelspec": {
   "display_name": "Python 3 (ipykernel)",
   "language": "python",
   "name": "python3"
  },
  "language_info": {
   "codemirror_mode": {
    "name": "ipython",
    "version": 3
   },
   "file_extension": ".py",
   "mimetype": "text/x-python",
   "name": "python",
   "nbconvert_exporter": "python",
   "pygments_lexer": "ipython3",
   "version": "3.11.5"
  }
 },
 "nbformat": 4,
 "nbformat_minor": 5
}

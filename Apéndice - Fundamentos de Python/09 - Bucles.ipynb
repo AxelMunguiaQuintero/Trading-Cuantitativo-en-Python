{
 "cells": [
  {
   "cell_type": "markdown",
   "id": "a97fbd20",
   "metadata": {},
   "source": [
    "<div style=\"overflow: hidden; margin-right: 50px;\">\n",
    "<img src=\"recursos/python.png\" alt=\"Python\" style=\"float: right; margin-left: 20px; margin-top: 10px;\" width=\"150\"/>\n",
    "<h1 style=\"text-align: justify;\">Bucles</h1>\n",
    "<p style=\"text-align: justify;\">\n",
    "\n",
    "Los bucles son estructuras de control que permiten repetir un bloque de código múltiples veces. En Python, los bucles más comunes son el bucle for y el bucle while. Estos permiten la ejecución repetida de un conjunto de instrucciones mientras se cumpla una condición o hasta que se agote un conjunto de elementos.\n",
    "\n",
    "    \n",
    "</p>\n",
    "</div>"
   ]
  },
  {
   "cell_type": "markdown",
   "id": "50ccbf09",
   "metadata": {},
   "source": [
    "### Bucles For"
   ]
  },
  {
   "cell_type": "code",
   "execution_count": 1,
   "id": "53d9b87b",
   "metadata": {},
   "outputs": [
    {
     "name": "stdout",
     "output_type": "stream",
     "text": [
      "manzana\n",
      "banana\n",
      "cereza\n"
     ]
    }
   ],
   "source": [
    "# Ejemplo 1: Iterar sobre una lista\n",
    "frutas = [\"manzana\", \"banana\", \"cereza\"]\n",
    "for i in frutas:\n",
    "    print(i)"
   ]
  },
  {
   "cell_type": "code",
   "execution_count": 2,
   "id": "43206d78",
   "metadata": {},
   "outputs": [
    {
     "name": "stdout",
     "output_type": "stream",
     "text": [
      "0\n",
      "1\n",
      "2\n",
      "3\n",
      "4\n",
      "5\n"
     ]
    }
   ],
   "source": [
    "# Ejemplo 2: Imprimir Números dentro de un rango\n",
    "for numero in range(0, 5 + 1, 1):\n",
    "    print(numero)"
   ]
  },
  {
   "cell_type": "code",
   "execution_count": 3,
   "id": "56b71b45",
   "metadata": {
    "scrolled": false
   },
   "outputs": [
    {
     "name": "stdout",
     "output_type": "stream",
     "text": [
      "P\n",
      "a\n",
      "l\n",
      "a\n",
      "b\n",
      "r\n",
      "a\n",
      " \n",
      "d\n",
      "e\n",
      " \n",
      "P\n",
      "r\n",
      "u\n",
      "e\n",
      "b\n",
      "a\n"
     ]
    }
   ],
   "source": [
    "# Ejemplo 3: Iterar sobre una palabra\n",
    "mensaje = \"Palabra de Prueba\"\n",
    "for letra in mensaje:\n",
    "    print(letra)"
   ]
  },
  {
   "cell_type": "code",
   "execution_count": 4,
   "id": "499e68ec",
   "metadata": {},
   "outputs": [
    {
     "name": "stdout",
     "output_type": "stream",
     "text": [
      "La suma es: 499500\n"
     ]
    }
   ],
   "source": [
    "# Ejemplo 4: Calcular la suma de los valores en un rango\n",
    "suma = 0\n",
    "for numero in range(1, 1_000):\n",
    "    suma += numero\n",
    "    \n",
    "print(\"La suma es:\", suma)"
   ]
  },
  {
   "cell_type": "code",
   "execution_count": 5,
   "id": "33ecc6be",
   "metadata": {},
   "outputs": [
    {
     "name": "stdout",
     "output_type": "stream",
     "text": [
      "Juan tiene 25 años\n",
      "Ana tiene 22 años\n",
      "Pedro tiene 28 años\n"
     ]
    }
   ],
   "source": [
    "# Ejemplo 5: Iterar sobre un diccionario\n",
    "estudiantes = {\"Juan\": 25, \"Ana\": 22, \"Pedro\": 28}\n",
    "for nombre, edad in estudiantes.items():\n",
    "    print(f\"{nombre} tiene {edad} años\")"
   ]
  },
  {
   "cell_type": "markdown",
   "id": "d83f57ed",
   "metadata": {},
   "source": [
    "### Bucles While"
   ]
  },
  {
   "cell_type": "code",
   "execution_count": 6,
   "id": "1eb61e50",
   "metadata": {},
   "outputs": [
    {
     "name": "stdout",
     "output_type": "stream",
     "text": [
      "5\n",
      "4\n",
      "3\n",
      "2\n",
      "1\n"
     ]
    }
   ],
   "source": [
    "# Ejemplo 1: Contador Decreciente\n",
    "contador = 5\n",
    "while contador > 0:\n",
    "    print(contador)\n",
    "    contador -= 1"
   ]
  },
  {
   "cell_type": "code",
   "execution_count": 7,
   "id": "2ba76c8e",
   "metadata": {},
   "outputs": [
    {
     "name": "stdout",
     "output_type": "stream",
     "text": [
      "0\n",
      "2\n",
      "4\n",
      "6\n",
      "8\n",
      "10\n"
     ]
    }
   ],
   "source": [
    "# Ejemplo 2: Sumaremos número hasta un límite\n",
    "limite = 10\n",
    "suma = 0\n",
    "while suma <= limite:\n",
    "    print(suma)\n",
    "    suma += 2"
   ]
  },
  {
   "cell_type": "code",
   "execution_count": 8,
   "id": "ef4b6b51",
   "metadata": {},
   "outputs": [
    {
     "name": "stdout",
     "output_type": "stream",
     "text": [
      "8 no está en la lista\n"
     ]
    }
   ],
   "source": [
    "# Ejemplo 3: Búsqueda de un Elemento\n",
    "elemento_buscado = 8\n",
    "lista = [1, 3, 5, 7, 9]\n",
    "indice = 0\n",
    "while (indice < len(lista)) and (lista[indice] != elemento_buscado):\n",
    "    indice += 1\n",
    "    \n",
    "if indice < len(lista):\n",
    "    print(f\"Se encontró el elemento en el índice {indice}\")\n",
    "else:\n",
    "    print(f\"{elemento_buscado} no está en la lista\")"
   ]
  }
 ],
 "metadata": {
  "kernelspec": {
   "display_name": "Python 3 (ipykernel)",
   "language": "python",
   "name": "python3"
  },
  "language_info": {
   "codemirror_mode": {
    "name": "ipython",
    "version": 3
   },
   "file_extension": ".py",
   "mimetype": "text/x-python",
   "name": "python",
   "nbconvert_exporter": "python",
   "pygments_lexer": "ipython3",
   "version": "3.11.5"
  }
 },
 "nbformat": 4,
 "nbformat_minor": 5
}
